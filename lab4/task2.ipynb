{
 "cells": [
  {
   "metadata": {},
   "cell_type": "markdown",
   "source": "## Задание 2(2)",
   "id": "62b1b13f693d62d4"
  },
  {
   "metadata": {},
   "cell_type": "markdown",
   "source": [
    "### Тест 1 (критерий однородности Смирнова)\n",
    "\n",
    "В качестве первого теста на однородность используем тест Колмогорова-Смирнова с гипотезами:\n",
    "- $H_0$: $F_n = F_m \\; (= F)$\n",
    "- $H_1$: $\\neg H_0$\n",
    "\n",
    "Статистика для этого теста:\n",
    "$$D_{n,m} = sup_{x \\in \\mathbb{R}}|F_n - F_m|$$\n",
    "\n",
    "Тест правосторонний, поэтому\n",
    "$$pvalue = 1 - K(\\sqrt{\\frac{nm}{n+m}} \\cdot D_{n,m})$$\n",
    "\n",
    "Примечание: о распределении kstwo подробнее по ссылке https://docs.scipy.org/doc/scipy/tutorial/stats/continuous_kstwo.html"
   ],
   "id": "3433ed95e8543365"
  },
  {
   "metadata": {
    "ExecuteTime": {
     "end_time": "2024-12-01T16:01:08.361069Z",
     "start_time": "2024-12-01T16:01:08.356745Z"
    }
   },
   "cell_type": "code",
   "source": [
    "import numpy as np\n",
    "import pandas as pd\n",
    "from matplotlib import pyplot as plt\n",
    "from scipy.stats import ecdf, kstwo, ks_2samp, mannwhitneyu, norm\n",
    "from itertools import chain"
   ],
   "id": "aadd715d0630661c",
   "outputs": [],
   "execution_count": 221
  },
  {
   "metadata": {
    "ExecuteTime": {
     "end_time": "2024-12-01T16:01:08.384071Z",
     "start_time": "2024-12-01T16:01:08.379537Z"
    }
   },
   "cell_type": "code",
   "source": [
    "def print_empirical_function(sample1, sample2, label1 = None, label2 = None):\n",
    "    fig, ax = plt.subplots(1, 1)\n",
    "    ax.ecdf(sample1, label=label1)\n",
    "    ax.ecdf(sample2, label=label2)\n",
    "    ax.legend()\n",
    "    plt.show()"
   ],
   "id": "f74f15a8d0b8059f",
   "outputs": [],
   "execution_count": 222
  },
  {
   "cell_type": "code",
   "id": "initial_id",
   "metadata": {
    "collapsed": true,
    "ExecuteTime": {
     "end_time": "2024-12-01T16:01:08.402253Z",
     "start_time": "2024-12-01T16:01:08.393268Z"
    }
   },
   "source": [
    "def ks_test(sample1, sample2):\n",
    "    n = len(sample1)\n",
    "    m = len(sample2)\n",
    "    \n",
    "    ecdf1 = ecdf(sample1)\n",
    "    ecdf2 = ecdf(sample2)\n",
    "    \n",
    "    sample = chain(sample1, sample2)\n",
    "    diffs = np.array([ecdf1.cdf.evaluate(x) - ecdf2.cdf.evaluate(x) for x in sample])\n",
    "    d = np.max(np.abs(diffs))\n",
    "    \n",
    "    p_value = 1 - kstwo.cdf(d, round((n * m) / (n + m)))\n",
    "    return d, p_value\n",
    "    \n",
    "def first_test(sample1, sample2, alpha = 0.05):\n",
    "    ks_scipy = ks_2samp(sample1, sample2)\n",
    "    statistic, p_value_my = ks_test(sample1, sample2)\n",
    "    result = \"accept\" if ks_scipy.pvalue > alpha else \"reject\"\n",
    "\n",
    "    print(\"Тест Колмогорова-Смирнова\")\n",
    "    print(f\"\\tРезультат: {result}\")\n",
    "    print(f\"\\tПодробный результат:\\n\\t\\t Statistic: {statistic} \\n\\t\\t P-value: {p_value_my}\")\n",
    "    print(f\"\\tРезультат ks_2samp из scipy: {ks_scipy}\")"
   ],
   "outputs": [],
   "execution_count": 223
  },
  {
   "metadata": {},
   "cell_type": "markdown",
   "source": [
    "### Тест 2 (критерий Манна-Уитни)\n",
    "\n",
    "Гипотезы для этого теста:\n",
    "- $H_0$: $F_1 = F_2$\n",
    "- $H_1$: $\\neg H_0$\n",
    "\n",
    "Статистика:\n",
    "$$U = min(U_1, U_2)$$\n",
    "$$U_1 = n_1 \\cdot n_2 + \\frac{n_1 \\cdot (n_1 + 1)}{2} - R_1$$\n",
    "$$U_2 = n_1 \\cdot n_2 + \\frac{n_2 \\cdot (n_2 + 1)}{2} - R_2$$\n",
    "где $R_1$, $R_2$ - суммы рангов каждой из выборок, $n_1$, $n_2$ - объемы выборок\n",
    "\n",
    "При больших объемах выборок, статистика стремится к нормальному распределению $N = N(\\frac{n_1 n_2}{2}, \\frac{n_1 n_2(n_1 + n_2 + 1)}{12})$\n",
    "\n",
    "Тест двусторонний, поэтому\n",
    "$$pvalue = 2 \\cdot min(p_l, p_r) = 2 \\cdot min(N(U), 1 - N(U))$$\n"
   ],
   "id": "6c93beb24d42e533"
  },
  {
   "metadata": {
    "ExecuteTime": {
     "end_time": "2024-12-01T16:01:08.427674Z",
     "start_time": "2024-12-01T16:01:08.418192Z"
    }
   },
   "cell_type": "code",
   "source": [
    "def mann_whitneyu(sample1, sample2):\n",
    "    n1 = len(sample1)\n",
    "    n2 = len(sample2)\n",
    "    \n",
    "    combined = np.concatenate((sample1, sample2))\n",
    "    sorted_indices = np.argsort(combined)\n",
    "    ranks = np.zeros_like(combined, dtype=float)\n",
    "    for i, idx in enumerate(sorted_indices):\n",
    "        ranks[idx] = i + 1\n",
    "\n",
    "    rank_sum = np.bincount(combined, weights=ranks)\n",
    "    count = np.bincount(combined)\n",
    "    for i in range(len(combined)):\n",
    "        ranks[i] = rank_sum[combined[i]] / count[combined[i]]\n",
    "\n",
    "    rank_sum1 = np.sum(ranks[:n1])\n",
    "    rank_sum2 = np.sum(ranks[n1:n1+n2])\n",
    "\n",
    "    U1 = n1 * n2 + (n1 * (n1 + 1)) / 2 - rank_sum1\n",
    "    U2 = n1 * n2 + (n2 * (n2 + 1)) / 2 - rank_sum2\n",
    "    U = min(U1, U2)\n",
    "    \n",
    "    mean = n1 * n2 / 2\n",
    "    std = np.sqrt(n1 * n2 * (n1 + n2 + 1) / 12)\n",
    "    z = (U - mean) / std\n",
    "    \n",
    "    p_value = 2 * min(norm.cdf(z), 1 - norm.cdf(z))\n",
    "    return U, p_value\n",
    "\n",
    "def second_test(sample1, sample2, alpha = 0.05):\n",
    "    mannwhitneyu_scipy = mannwhitneyu(sample1, sample2)\n",
    "    statistic, pvalue = mann_whitneyu(sample1, sample2)\n",
    "    \n",
    "    result = \"accept\" if mannwhitneyu_scipy.pvalue > alpha else \"reject\"\n",
    "    \n",
    "    print(\"Тест Манна-Уитни\")\n",
    "    print(f\"\\tРезультат: {result}\")\n",
    "    print(f\"\\tПодробный результат:\\n\\t\\t Statistic: {statistic} \\n\\t\\t P-value: {pvalue}\")\n",
    "    print(f\"\\tРезультат mannwhitneyu из scipy: {mannwhitneyu_scipy}\")\n",
    "    "
   ],
   "id": "9a6188266dda5741",
   "outputs": [],
   "execution_count": 224
  },
  {
   "metadata": {
    "ExecuteTime": {
     "end_time": "2024-12-01T16:01:10.075503Z",
     "start_time": "2024-12-01T16:01:08.438840Z"
    }
   },
   "cell_type": "code",
   "source": [
    "def main():\n",
    "    data = pd.read_csv('chess_games.csv')\n",
    "    sample1 = data[data['rated'] == True]['turns'].to_numpy()\n",
    "    sample2 = data[data['rated'] == False]['turns'].to_numpy()\n",
    "\n",
    "    print_empirical_function(sample1, sample2, label1=\"rated\", label2=\"unrated\")\n",
    "    first_test(sample1, sample2)\n",
    "    print()\n",
    "    second_test(sample1, sample2)\n",
    "    \n",
    "if __name__ == '__main__':\n",
    "    main()"
   ],
   "id": "9e6189c0674f1df1",
   "outputs": [
    {
     "data": {
      "text/plain": [
       "<Figure size 640x480 with 1 Axes>"
      ],
      "image/png": "[encoded data removed]"
     },
     "metadata": {},
     "output_type": "display_data"
    },
    {
     "name": "stdout",
     "output_type": "stream",
     "text": [
      "Тест Колмогорова-Смирнова\n",
      "\tРезультат: reject\n",
      "\tПодробный результат:\n",
      "\t\t Statistic: 0.10439670838635423 \n",
      "\t\t P-value: 0.0\n",
      "\tРезультат ks_2samp из scipy: KstestResult(statistic=0.10439670838635423, pvalue=2.739935850453732e-30, statistic_location=41, statistic_sign=-1)\n",
      "\n",
      "Тест Манна-Уитни\n",
      "\tРезультат: reject\n",
      "\tПодробный результат:\n",
      "\t\t Statistic: 27131565.5 \n",
      "\t\t P-value: 9.411368949300668e-42\n",
      "\tРезультат mannwhitneyu из scipy: MannwhitneyuResult(statistic=35921399.5, pvalue=9.321578122350876e-42)\n"
     ]
    }
   ],
   "execution_count": 225
  }
 ],
 "metadata": {
  "kernelspec": {
   "display_name": "Python 3",
   "language": "python",
   "name": "python3"
  },
  "language_info": {
   "codemirror_mode": {
    "name": "ipython",
    "version": 2
   },
   "file_extension": ".py",
   "mimetype": "text/x-python",
   "name": "python",
   "nbconvert_exporter": "python",
   "pygments_lexer": "ipython2",
   "version": "2.7.6"
  }
 },
 "nbformat": 4,
 "nbformat_minor": 5
}
