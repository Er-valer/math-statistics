{
 "cells": [
  {
   "metadata": {},
   "cell_type": "markdown",
   "source": "## Задание 1(4)",
   "id": "468424bcaf149b2a"
  },
  {
   "metadata": {},
   "cell_type": "markdown",
   "source": [
    "Функция плотности исследуемого распределения:\n",
    "$$f_\\theta(x) = \\frac{3x^2}{\\sqrt{2\\pi}} \\cdot \\exp{\\left(-\\frac{(\\theta - x^3)^2}{2} \\right)}$$\n",
    "\n",
    "Функция правдоподобия для выборки $X = (X_1, ..., X_n)$:\n",
    "\n",
    "$$L(\\theta | X) = \\prod_{i=1}^n \\left[ \\frac{3X_i^2}{\\sqrt{2\\pi}} \\cdot \\exp{\\left( -\\frac{(\\theta - X_i^3)^2}{2} \\right)} \\right]$$\n",
    "\n",
    "Находим логарифм:\n",
    "\n",
    "$$ln(L(\\theta | X)) = \\sum_{i=1}^n \\left[ -\\frac{1}{2}ln(2\\pi) - ln(3X_i^2) - \\frac{(\\theta - X_i^3)^2}{2} \\right]$$\n",
    "\n",
    "Находим частную производную и приравниваем к 0:\n",
    "\n",
    "$$\\frac{\\partial ln(L(\\theta | X))}{\\partial \\theta} = \\sum_{i=1}^n -(\\theta - X_i^3) = -n\\theta + \\sum_{i=1}^n {X_i^3}$$\n",
    "\n",
    "$$-n\\theta + \\sum_{i=1}^n {X_i^3} = 0 \\implies \\theta = \\overline{X^3}$$\n",
    "\n",
    "Значит $\\theta$ - выборочный 3-й момент, из чего следует, что $\\theta$ - состоятельная, несмещенная и асимптотически нормальная оценка. Помимо этого, так как оценка получена методом максимального правдоподобия, то $\\theta$ также является асимптотически эффективной\n",
    "\n",
    "### Несмещенность (доказательство)\n",
    "Как известно, выборочный нецентральный момент является несмещенной оценкой, то есть\n",
    "$$E(\\overline{X^3}) = \\alpha_3$$\n",
    "\n",
    "Докажем, что параметр $\\theta$ и есть 3-й теоретический момент распределения с плотностью \n",
    "$$f_\\theta(x) = \\frac{3x^2}{\\sqrt{2\\pi}} \\cdot \\exp{\\left(-\\frac{(\\theta - x^3)^2}{2} \\right)}$$\n",
    "\n",
    "По формуле для момента абсолютно непрерывного распределения:\n",
    "$$\\alpha_3 = \\int_{-\\infty}^{\\infty} x^3 \\cdot \\frac{3x^2}{\\sqrt{2\\pi}} \\cdot \\exp{\\left(-\\frac{(\\theta - x^3)^2}{2} \\right)} \\; dx \n",
    "= [x^3 = \\tau] = \\int_{-\\infty}^{\\infty} \\frac{3\\tau^{\\frac{5}{3}}}{\\sqrt{2\\pi}} \\cdot \\exp{\\left(-\\frac{(\\theta - \\tau)^2}{2} \\right)} \\; d (\\sqrt[3]{\\tau}) \n",
    "= \\int_{-\\infty}^{\\infty} \\frac{\\tau}{\\sqrt{2\\pi}} \\cdot \\exp{\\left(-\\frac{(\\theta - \\tau)^2}{2} \\right)} \\; d (\\tau) \n",
    "= \\theta$$\n",
    "\n",
    "Последнее равенство верно, так как $\\int_{-\\infty}^{\\infty} \\frac{\\tau}{\\sqrt{2\\pi}} \\cdot \\exp{\\left(-\\frac{(\\theta - \\tau)^2}{2} \\right)} \\; d (\\tau)$ - формула для матожидания нормального распределения $N(\\theta, 1)$\n",
    "\n",
    "Значит $E(\\overline{X^3}) = \\alpha_3 = \\theta$ и полученная оценка является несмещенной\n",
    "\n"
   ],
   "id": "3d1bb8794e8d9c0e"
  },
  {
   "metadata": {
    "ExecuteTime": {
     "end_time": "2024-12-17T21:35:19.355101Z",
     "start_time": "2024-12-17T21:35:19.341449Z"
    }
   },
   "cell_type": "code",
   "source": [
    "import random\n",
    "from matplotlib import pyplot as plt\n",
    "from scipy.stats import norm, moment"
   ],
   "id": "47e51cfdcb749c3e",
   "outputs": [],
   "execution_count": 25
  },
  {
   "metadata": {},
   "cell_type": "markdown",
   "source": "Условия, при которых будут проводиться эксперименты (размеры и количество выборок, теоретическое значение $\\theta$):",
   "id": "91b2491dc033613f"
  },
  {
   "metadata": {
    "ExecuteTime": {
     "end_time": "2024-12-17T21:35:19.378942Z",
     "start_time": "2024-12-17T21:35:19.370781Z"
    }
   },
   "cell_type": "code",
   "source": [
    "sample_sizes = [1, 2, 5, 10, 20, 50, 100, 200, 500, 1000, 2000]\n",
    "sample_count = 1000\n",
    "theoretical_theta = 5"
   ],
   "id": "cd4edb264337158e",
   "outputs": [],
   "execution_count": 26
  },
  {
   "metadata": {},
   "cell_type": "markdown",
   "source": "Функции вычисления выборочных моментов",
   "id": "6bda7ceddaa5ac88"
  },
  {
   "metadata": {
    "ExecuteTime": {
     "end_time": "2024-12-17T21:35:19.394455Z",
     "start_time": "2024-12-17T21:35:19.387871Z"
    }
   },
   "cell_type": "code",
   "source": [
    "def sample_moment(sample, order):\n",
    "    return moment(sample, moment=order, center=0)\n",
    "\n",
    "def sample_central_moment(sample, order):\n",
    "    mean = sample_moment(sample, 1)\n",
    "    return moment(sample, moment=order, center=mean)"
   ],
   "id": "1678d5bb5fd80502",
   "outputs": [],
   "execution_count": 27
  },
  {
   "metadata": {},
   "cell_type": "markdown",
   "source": [
    "Функции для генерации выборки с заданной функцией плотности.\n",
    "\n",
    "Можно заметить, что наша функция распределения - это просто композиция функции стандартного нормального распределения $\\Phi(x)$ и $h(x) = x^3 - \\theta$ (если возьмем производную композиции, то получим в точности плотность нашего распределения):\n",
    "\n",
    "$$(\\Phi(h(x)))' = h'(x) \\cdot \\Phi'(h(x)) = 3x^2 \\cdot \\frac{1}{\\sqrt{2\\pi}}  \\exp\\left\\{-\\frac{(x^3 - \\theta)^2}{2}\\right\\}$$\n",
    "\n",
    "Тогда обратная функция к функции распределения:\n",
    "\n",
    "$$F^{-1}(x) = (\\Phi(h(x)))^{-1} = h^{-1}(\\Phi^{-1}(x)) = \\sqrt[3]{\\Phi^{-1}(x) + \\theta} \\text{, }$$\n",
    "где $\\Phi^{-1}(x)$ - квантиль стандартного нормального распределения\n",
    "\n",
    "Также известно, что $F^{-1}(U[0, 1])$ ведет себя как случайная величина $F(x)$, значит будем генерировать величину из $U[0, 1]$ и применять к ней $F^{-1}(x)$"
   ],
   "id": "4f2bbefc8d3df184"
  },
  {
   "metadata": {
    "ExecuteTime": {
     "end_time": "2024-12-17T21:35:19.408573Z",
     "start_time": "2024-12-17T21:35:19.402492Z"
    }
   },
   "cell_type": "code",
   "source": [
    "def cube_root(x):\n",
    "    if x >= 0: return x ** (1 / 3)\n",
    "    return -(-x) ** (1 / 3)\n",
    "\n",
    "def inv_distribution_f(x):\n",
    "    return cube_root(norm.ppf(x) + theoretical_theta)\n",
    "\n",
    "def generate_sample(size):\n",
    "    return [inv_distribution_f(random.random()) for _ in range(size)]"
   ],
   "id": "e3570061a8d3bc46",
   "outputs": [],
   "execution_count": 28
  },
  {
   "metadata": {},
   "cell_type": "markdown",
   "source": "### Эксперимент:",
   "id": "578cba96091956f2"
  },
  {
   "metadata": {
    "ExecuteTime": {
     "end_time": "2024-12-17T21:35:19.422015Z",
     "start_time": "2024-12-17T21:35:19.415858Z"
    }
   },
   "cell_type": "code",
   "source": [
    "def print_hist(sample, bins=50):\n",
    "    fig, ax = plt.subplots(1, 1)\n",
    "    ax.hist(sample, bins=bins, density=True, color='royalblue')\n",
    "    plt.show()"
   ],
   "id": "a8bf4a6d92d2dc0a",
   "outputs": [],
   "execution_count": 29
  },
  {
   "metadata": {
    "ExecuteTime": {
     "end_time": "2024-12-17T21:35:21.925519Z",
     "start_time": "2024-12-17T21:35:19.428954Z"
    }
   },
   "cell_type": "code",
   "source": [
    "def main():\n",
    "    for size in sample_sizes:\n",
    "        diffs = []\n",
    "        for _ in range(sample_count):\n",
    "            sample = generate_sample(size)\n",
    "            diffs.append(sample_moment(sample, 3) - theoretical_theta)\n",
    "\n",
    "        print(\"Size %d\" % size)\n",
    "        print(\"\\tMean: %f\" % sample_moment(diffs, 1)) # mean\n",
    "        print(\"\\tVar: %f\" % sample_central_moment(diffs, 2)) # variance\n",
    "        print(\"\\tCount > 1e-1: %d\" % len(list(filter(lambda x: abs(x) > 1e-1, diffs))))\n",
    "        print(\"\\tHistogram for the difference between sample theta and the theoretical theta:\")\n",
    "        print_hist(diffs)\n",
    "\n",
    "if __name__ == '__main__':\n",
    "    main()"
   ],
   "id": "7fd1edfb20a595e7",
   "outputs": [
    {
     "name": "stdout",
     "output_type": "stream",
     "text": [
      "Size 1\n",
      "\tMean: -0.001928\n",
      "\tVar: 0.983398\n",
      "\tCount > 1e-1: 929\n",
      "\tHistogram for the difference between sample theta and the theoretical theta:\n"
     ]
    },
    {
     "data": {
      "text/plain": [
       "<Figure size 640x480 with 1 Axes>"
      ],
      "image/png": "[encoded data removed]"
     },
     "metadata": {},
     "output_type": "display_data"
    },
    {
     "name": "stdout",
     "output_type": "stream",
     "text": [
      "Size 2\n",
      "\tMean: 0.016235\n",
      "\tVar: 0.483831\n",
      "\tCount > 1e-1: 896\n",
      "\tHistogram for the difference between sample theta and the theoretical theta:\n"
     ]
    },
    {
     "data": {
      "text/plain": [
       "<Figure size 640x480 with 1 Axes>"
      ],
      "image/png": "[encoded data removed]"
     },
     "metadata": {},
     "output_type": "display_data"
    },
    {
     "ename": "KeyboardInterrupt",
     "evalue": "",
     "output_type": "error",
     "traceback": [
      "\u001B[1;31m---------------------------------------------------------------------------\u001B[0m",
      "\u001B[1;31mKeyboardInterrupt\u001B[0m                         Traceback (most recent call last)",
      "Cell \u001B[1;32mIn[30], line 16\u001B[0m\n\u001B[0;32m     13\u001B[0m         print_hist(diffs)\n\u001B[0;32m     15\u001B[0m \u001B[38;5;28;01mif\u001B[39;00m \u001B[38;5;18m__name__\u001B[39m \u001B[38;5;241m==\u001B[39m \u001B[38;5;124m'\u001B[39m\u001B[38;5;124m__main__\u001B[39m\u001B[38;5;124m'\u001B[39m:\n\u001B[1;32m---> 16\u001B[0m     main()\n",
      "Cell \u001B[1;32mIn[30], line 6\u001B[0m, in \u001B[0;36mmain\u001B[1;34m()\u001B[0m\n\u001B[0;32m      4\u001B[0m \u001B[38;5;28;01mfor\u001B[39;00m _ \u001B[38;5;129;01min\u001B[39;00m \u001B[38;5;28mrange\u001B[39m(sample_count):\n\u001B[0;32m      5\u001B[0m     sample \u001B[38;5;241m=\u001B[39m generate_sample(size)\n\u001B[1;32m----> 6\u001B[0m     diffs\u001B[38;5;241m.\u001B[39mappend(sample_moment(sample, \u001B[38;5;241m3\u001B[39m) \u001B[38;5;241m-\u001B[39m theoretical_theta)\n\u001B[0;32m      8\u001B[0m \u001B[38;5;28mprint\u001B[39m(\u001B[38;5;124m\"\u001B[39m\u001B[38;5;124mSize \u001B[39m\u001B[38;5;132;01m%d\u001B[39;00m\u001B[38;5;124m\"\u001B[39m \u001B[38;5;241m%\u001B[39m size)\n\u001B[0;32m      9\u001B[0m \u001B[38;5;28mprint\u001B[39m(\u001B[38;5;124m\"\u001B[39m\u001B[38;5;130;01m\\t\u001B[39;00m\u001B[38;5;124mMean: \u001B[39m\u001B[38;5;132;01m%f\u001B[39;00m\u001B[38;5;124m\"\u001B[39m \u001B[38;5;241m%\u001B[39m sample_moment(diffs, \u001B[38;5;241m1\u001B[39m)) \u001B[38;5;66;03m# mean\u001B[39;00m\n",
      "Cell \u001B[1;32mIn[27], line 2\u001B[0m, in \u001B[0;36msample_moment\u001B[1;34m(sample, order)\u001B[0m\n\u001B[0;32m      1\u001B[0m \u001B[38;5;28;01mdef\u001B[39;00m \u001B[38;5;21msample_moment\u001B[39m(sample, order):\n\u001B[1;32m----> 2\u001B[0m     \u001B[38;5;28;01mreturn\u001B[39;00m moment(sample, moment\u001B[38;5;241m=\u001B[39morder, center\u001B[38;5;241m=\u001B[39m\u001B[38;5;241m0\u001B[39m)\n",
      "File \u001B[1;32m~\\miniconda3\\Lib\\site-packages\\scipy\\stats\\_axis_nan_policy.py:483\u001B[0m, in \u001B[0;36m_axis_nan_policy_factory.<locals>.axis_nan_policy_decorator.<locals>.axis_nan_policy_wrapper\u001B[1;34m(***failed resolving arguments***)\u001B[0m\n\u001B[0;32m    481\u001B[0m     samples \u001B[38;5;241m=\u001B[39m [np\u001B[38;5;241m.\u001B[39masarray(sample\u001B[38;5;241m.\u001B[39mravel()) \u001B[38;5;28;01mfor\u001B[39;00m sample \u001B[38;5;129;01min\u001B[39;00m samples]\n\u001B[0;32m    482\u001B[0m \u001B[38;5;28;01melse\u001B[39;00m:\n\u001B[1;32m--> 483\u001B[0m     samples \u001B[38;5;241m=\u001B[39m _broadcast_arrays(samples, axis\u001B[38;5;241m=\u001B[39maxis)\n\u001B[0;32m    484\u001B[0m     axis \u001B[38;5;241m=\u001B[39m np\u001B[38;5;241m.\u001B[39matleast_1d(axis)\n\u001B[0;32m    485\u001B[0m     n_axes \u001B[38;5;241m=\u001B[39m \u001B[38;5;28mlen\u001B[39m(axis)\n",
      "File \u001B[1;32m~\\miniconda3\\Lib\\site-packages\\scipy\\stats\\_axis_nan_policy.py:18\u001B[0m, in \u001B[0;36m_broadcast_arrays\u001B[1;34m(arrays, axis)\u001B[0m\n\u001B[0;32m     14\u001B[0m \u001B[38;5;28;01mdef\u001B[39;00m \u001B[38;5;21m_broadcast_arrays\u001B[39m(arrays, axis\u001B[38;5;241m=\u001B[39m\u001B[38;5;28;01mNone\u001B[39;00m):\n\u001B[0;32m     15\u001B[0m \u001B[38;5;250m    \u001B[39m\u001B[38;5;124;03m\"\"\"\u001B[39;00m\n\u001B[0;32m     16\u001B[0m \u001B[38;5;124;03m    Broadcast shapes of arrays, ignoring incompatibility of specified axes\u001B[39;00m\n\u001B[0;32m     17\u001B[0m \u001B[38;5;124;03m    \"\"\"\u001B[39;00m\n\u001B[1;32m---> 18\u001B[0m     new_shapes \u001B[38;5;241m=\u001B[39m _broadcast_array_shapes(arrays, axis\u001B[38;5;241m=\u001B[39maxis)\n\u001B[0;32m     19\u001B[0m     \u001B[38;5;28;01mif\u001B[39;00m axis \u001B[38;5;129;01mis\u001B[39;00m \u001B[38;5;28;01mNone\u001B[39;00m:\n\u001B[0;32m     20\u001B[0m         new_shapes \u001B[38;5;241m=\u001B[39m [new_shapes]\u001B[38;5;241m*\u001B[39m\u001B[38;5;28mlen\u001B[39m(arrays)\n",
      "File \u001B[1;32m~\\miniconda3\\Lib\\site-packages\\scipy\\stats\\_axis_nan_policy.py:30\u001B[0m, in \u001B[0;36m_broadcast_array_shapes\u001B[1;34m(arrays, axis)\u001B[0m\n\u001B[0;32m     26\u001B[0m \u001B[38;5;250m\u001B[39m\u001B[38;5;124;03m\"\"\"\u001B[39;00m\n\u001B[0;32m     27\u001B[0m \u001B[38;5;124;03mBroadcast shapes of arrays, ignoring incompatibility of specified axes\u001B[39;00m\n\u001B[0;32m     28\u001B[0m \u001B[38;5;124;03m\"\"\"\u001B[39;00m\n\u001B[0;32m     29\u001B[0m shapes \u001B[38;5;241m=\u001B[39m [np\u001B[38;5;241m.\u001B[39masarray(arr)\u001B[38;5;241m.\u001B[39mshape \u001B[38;5;28;01mfor\u001B[39;00m arr \u001B[38;5;129;01min\u001B[39;00m arrays]\n\u001B[1;32m---> 30\u001B[0m \u001B[38;5;28;01mreturn\u001B[39;00m _broadcast_shapes(shapes, axis)\n",
      "File \u001B[1;32m~\\miniconda3\\Lib\\site-packages\\scipy\\stats\\_axis_nan_policy.py:68\u001B[0m, in \u001B[0;36m_broadcast_shapes\u001B[1;34m(shapes, axis)\u001B[0m\n\u001B[0;32m     65\u001B[0m         \u001B[38;5;28;01mraise\u001B[39;00m AxisError(\u001B[38;5;124m\"\u001B[39m\u001B[38;5;124m`axis` must contain only distinct elements\u001B[39m\u001B[38;5;124m\"\u001B[39m)\n\u001B[0;32m     67\u001B[0m     removed_shapes \u001B[38;5;241m=\u001B[39m new_shapes[:, axis]\n\u001B[1;32m---> 68\u001B[0m     new_shapes \u001B[38;5;241m=\u001B[39m np\u001B[38;5;241m.\u001B[39mdelete(new_shapes, axis, axis\u001B[38;5;241m=\u001B[39m\u001B[38;5;241m1\u001B[39m)\n\u001B[0;32m     70\u001B[0m \u001B[38;5;66;03m# If arrays are broadcastable, shape elements that are 1 may be replaced\u001B[39;00m\n\u001B[0;32m     71\u001B[0m \u001B[38;5;66;03m# with a corresponding non-1 shape element. Assuming arrays are\u001B[39;00m\n\u001B[0;32m     72\u001B[0m \u001B[38;5;66;03m# broadcastable, that final shape element can be found with:\u001B[39;00m\n\u001B[0;32m     73\u001B[0m new_shape \u001B[38;5;241m=\u001B[39m np\u001B[38;5;241m.\u001B[39mmax(new_shapes, axis\u001B[38;5;241m=\u001B[39m\u001B[38;5;241m0\u001B[39m)\n",
      "File \u001B[1;32m~\\miniconda3\\Lib\\site-packages\\numpy\\lib\\function_base.py:5169\u001B[0m, in \u001B[0;36m_delete_dispatcher\u001B[1;34m(arr, obj, axis)\u001B[0m\n\u001B[0;32m   5164\u001B[0m         output \u001B[38;5;241m=\u001B[39m [x\u001B[38;5;241m.\u001B[39mcopy() \u001B[38;5;28;01mfor\u001B[39;00m x \u001B[38;5;129;01min\u001B[39;00m output]\n\u001B[0;32m   5166\u001B[0m     \u001B[38;5;28;01mreturn\u001B[39;00m output\n\u001B[1;32m-> 5169\u001B[0m \u001B[38;5;28;01mdef\u001B[39;00m \u001B[38;5;21m_delete_dispatcher\u001B[39m(arr, obj, axis\u001B[38;5;241m=\u001B[39m\u001B[38;5;28;01mNone\u001B[39;00m):\n\u001B[0;32m   5170\u001B[0m     \u001B[38;5;28;01mreturn\u001B[39;00m (arr, obj)\n\u001B[0;32m   5173\u001B[0m \u001B[38;5;129m@array_function_dispatch\u001B[39m(_delete_dispatcher)\n\u001B[0;32m   5174\u001B[0m \u001B[38;5;28;01mdef\u001B[39;00m \u001B[38;5;21mdelete\u001B[39m(arr, obj, axis\u001B[38;5;241m=\u001B[39m\u001B[38;5;28;01mNone\u001B[39;00m):\n",
      "\u001B[1;31mKeyboardInterrupt\u001B[0m: "
     ]
    }
   ],
   "execution_count": 30
  }
 ],
 "metadata": {
  "kernelspec": {
   "display_name": "Python 3",
   "language": "python",
   "name": "python3"
  },
  "language_info": {
   "codemirror_mode": {
    "name": "ipython",
    "version": 2
   },
   "file_extension": ".py",
   "mimetype": "text/x-python",
   "name": "python",
   "nbconvert_exporter": "python",
   "pygments_lexer": "ipython2",
   "version": "2.7.6"
  }
 },
 "nbformat": 4,
 "nbformat_minor": 5
}
