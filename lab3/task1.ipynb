{
 "cells": [
  {
   "metadata": {},
   "cell_type": "markdown",
   "source": "## Задание 1(3)",
   "id": "e43eed544fbe782e"
  },
  {
   "metadata": {},
   "cell_type": "markdown",
   "source": [
    "По условию $X = (X_1, ..., X_n) \\sim N(\\mu_1, \\sigma_1^2)$, $Y = (Y_1, ..., Y_m) \\sim N(\\mu_2, \\sigma_2^2)$\n",
    "\n",
    "По теореме Фишера для выборки из нормального распределения:\n",
    "$$\\frac{n \\cdot S_*^2}{\\sigma^2} \\sim \\chi^2_{n-1} \\text{ ,}$$\n",
    "где $n$ - размер выборки, $S_*^2$ - смещенная выборочная дисперсия\n",
    "\n",
    "Тогда\n",
    "$$\\frac{m(n-1)}{n(m-1)} \\cdot \\frac{S_{*Y}^2}{S_{*X}^2} \\cdot \\frac{\\sigma_1^2}{\\sigma_2^2} \n",
    "\\sim \\frac{\\chi^2_{m-1} / (m-1)}{\\chi^2_{n-1} / (n-1)} = F(m-1, n-1) \\text{ ,}$$\n",
    "где $F$ - распределение Фишера\n",
    "\n",
    "Построим доверительный интервал уровня $1- \\alpha$:\n",
    "$$q_{\\frac{\\alpha}{2}} \\leq \n",
    "\\cdot \\frac{m(n-1)}{n(m-1)} \\cdot \\frac{S_{*Y}^2}{S_{*X}^2} \\cdot \\frac{\\sigma_1^2}{\\sigma_2^2}\n",
    "\\leq q_{1 - \\frac{\\alpha}{2}}$$ \n",
    "\n",
    "$$q_{\\frac{\\alpha}{2}} \\cdot \\frac{n(m-1)}{m(n-1)} \\cdot \\frac{S_{*X}^2}{S_{*Y}^2} \\leq \n",
    "\\frac{\\sigma_1^2}{\\sigma_2^2}\n",
    "\\leq q_{1 - \\frac{\\alpha}{2}} \\cdot \\frac{n(m-1)}{m(n-1)} \\cdot \\frac{S_{*X}^2}{S_{*Y}^2} \\text{ ,}$$\n",
    " \n",
    "где $q_{\\frac{\\alpha}{2}}$, $q_{1 - \\frac{\\alpha}{2}}$ - квантили распределения $F(m-1, n-1)$"
   ],
   "id": "20b2579ebfeb0ed9"
  },
  {
   "metadata": {},
   "cell_type": "markdown",
   "source": "### Эксперимент",
   "id": "701e42ca73b71bdd"
  },
  {
   "metadata": {
    "ExecuteTime": {
     "end_time": "2024-11-09T20:13:22.858388Z",
     "start_time": "2024-11-09T20:13:22.853661Z"
    }
   },
   "cell_type": "code",
   "source": [
    "import numpy as np\n",
    "from scipy import stats\n",
    "\n",
    "mu1 = mu2 = 0\n",
    "var1 = 2\n",
    "var2 = 1\n",
    "alpha = 0.05\n",
    "t = var1 / var2"
   ],
   "id": "986491ed4a8744db",
   "outputs": [],
   "execution_count": 253
  },
  {
   "metadata": {
    "ExecuteTime": {
     "end_time": "2024-11-09T20:13:22.876141Z",
     "start_time": "2024-11-09T20:13:22.870409Z"
    }
   },
   "cell_type": "code",
   "source": [
    "def test(n, m, test_count = 1000):\n",
    "    left_q = stats.f.ppf(alpha / 2, m - 1, n - 1)\n",
    "    right_q = stats.f.ppf(1 - alpha / 2, m - 1, n - 1)\n",
    "    hit_count = 0\n",
    "    for i in range(test_count):\n",
    "        x = stats.norm.rvs(mu1, np.sqrt(var1), n)\n",
    "        y = stats.norm.rvs(mu2, np.sqrt(var2), m)\n",
    "        x_var = np.var(x)\n",
    "        y_var = np.var(y)\n",
    "        coef = n * (m - 1) * x_var / (m * (n - 1) * y_var)\n",
    "        if left_q * coef < t < right_q * coef:\n",
    "            hit_count += 1\n",
    "    return hit_count"
   ],
   "id": "53ab368d88ba0cad",
   "outputs": [],
   "execution_count": 254
  },
  {
   "metadata": {
    "ExecuteTime": {
     "end_time": "2024-11-09T20:13:23.747986Z",
     "start_time": "2024-11-09T20:13:22.892750Z"
    }
   },
   "cell_type": "code",
   "source": [
    "print(\"Количество попаданий в интервал:\")\n",
    "print(\"\\tпри n = m = 5: \", test(5, 5))\n",
    "print(\"\\tпри n = m = 25: \", test(25, 25))\n",
    "print(\"\\tпри n = m = 10000: \", test(10000, 10000))"
   ],
   "id": "42769b9e8a7f5f68",
   "outputs": [
    {
     "name": "stdout",
     "output_type": "stream",
     "text": [
      "Количество попаданий в интервал:\n",
      "\tпри n = m = 5:  946\n",
      "\tпри n = m = 25:  952\n",
      "\tпри n = m = 10000:  951\n"
     ]
    }
   ],
   "execution_count": 255
  },
  {
   "metadata": {},
   "cell_type": "markdown",
   "source": "Можно заметить, что количество попаданий не зависит от размеров выборок и приблизительно равно 950, поскольку рассматриваем доверительный 95% интервал и ширина доверительного интервала зависит от размеров выборок (больше выборка $\\implies$ меньше интервал, но больше точность статистики, а значит количество попаданий не меняется)",
   "id": "b110d910b53e1ebf"
  },
  {
   "metadata": {},
   "cell_type": "markdown",
   "source": "",
   "id": "282b67edad801c65"
  }
 ],
 "metadata": {
  "kernelspec": {
   "display_name": "Python 3",
   "language": "python",
   "name": "python3"
  },
  "language_info": {
   "codemirror_mode": {
    "name": "ipython",
    "version": 2
   },
   "file_extension": ".py",
   "mimetype": "text/x-python",
   "name": "python",
   "nbconvert_exporter": "python",
   "pygments_lexer": "ipython2",
   "version": "2.7.6"
  }
 },
 "nbformat": 4,
 "nbformat_minor": 5
}
