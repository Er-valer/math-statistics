{
 "cells": [
  {
   "metadata": {},
   "cell_type": "markdown",
   "source": "## Задание 2(2)",
   "id": "363d0af15010cbee"
  },
  {
   "metadata": {},
   "cell_type": "markdown",
   "source": [
    "\n",
    "По теореме об асимптотике среднего члена вариационного ряда:\n",
    "$$\\sqrt{n} \\cdot p(q_{\\alpha}) \\frac{X_{(\\lfloor{n\\alpha}\\rfloor)} - q_{\\alpha}}{\\sqrt{\\alpha(1 - \\alpha)}} \\xrightarrow[n \\rightarrow \\infty]{\\text{d}} N(0, 1) \\text{ ,}$$\n",
    "где $0 < \\alpha \\leq 1$, $q_{\\alpha}$ - теоретический квантиль порядка $\\alpha$\n",
    "\n",
    "Для распределения Лапласа с плотностью $p(x) = \\frac{1}{2} e^{-|x-\\beta|} $ и $\\alpha = \\frac{1}{2}$ (медиана)\n",
    "$$\\sqrt{n} \\cdot p(\\beta) \\frac{X_{(\\lfloor{\\frac{n}{2}}\\rfloor)} - \\beta}{\\frac{1}{2}} \\xrightarrow [n \\rightarrow \\infty]{\\text{d}} N(0, 1)$$\n",
    "\n",
    "$$\\sqrt{n} \\cdot \\frac{1}{2} \\cdot \\frac{X_{(\\lfloor{\\frac{n}{2}}\\rfloor)} - \\beta}{\\frac{1}{2}} \\xrightarrow [n \\rightarrow \\infty]{\\text{d}} N(0, 1)$$\n",
    "\n",
    "$$\\sqrt{n} \\cdot (X_{(\\lfloor{\\frac{n}{2}}\\rfloor)} - \\beta) \\xrightarrow [n \\rightarrow \\infty]{\\text{d}} N(0, 1)$$\n",
    "\n",
    "Построим асимптотический доверительный интервал уровня $1 - \\gamma$\n",
    "$$q_{\\frac{\\gamma}{2}} \\leq \\sqrt{n} \\cdot (X_{(\\lfloor{\\frac{n}{2}}\\rfloor)} - \\beta) \\leq q_{1 - \\frac{\\gamma}{2}}$$\n",
    "\n",
    "$$X_{(\\lfloor{\\frac{n}{2}}\\rfloor)} - \\frac{q_{1 - \\frac{\\gamma}{2}}}{\\sqrt{n}} \n",
    "\\leq \\beta \\leq\n",
    "X_{(\\lfloor{\\frac{n}{2}}\\rfloor)} - \\frac{q_{\\frac{\\gamma}{2}}}{\\sqrt{n}} \\text{ ,}$$\n",
    "где $q_{\\frac{\\gamma}{2}}$, $q_{1 - \\frac{\\gamma}{2}}$ - квантили распределения $N(0,1)$"
   ],
   "id": "a1f0f08166703052"
  },
  {
   "metadata": {},
   "cell_type": "markdown",
   "source": "### Эксперимент",
   "id": "13a9e23b35473728"
  },
  {
   "metadata": {
    "ExecuteTime": {
     "end_time": "2024-11-24T09:40:38.531708Z",
     "start_time": "2024-11-24T09:40:38.524955Z"
    }
   },
   "cell_type": "code",
   "source": [
    "import numpy as np\n",
    "from scipy import stats\n",
    "\n",
    "mu = 2\n",
    "alpha = 0.05"
   ],
   "id": "baab81605bb2cafb",
   "outputs": [],
   "execution_count": 10
  },
  {
   "metadata": {
    "ExecuteTime": {
     "end_time": "2024-11-24T09:40:38.548494Z",
     "start_time": "2024-11-24T09:40:38.531708Z"
    }
   },
   "cell_type": "code",
   "source": [
    "def test(n, test_count = 1000):\n",
    "    left_q = stats.norm.ppf(alpha / 2, 0, 1)\n",
    "    right_q = stats.norm.ppf(1 - alpha / 2, 0, 1)\n",
    "    hit_count = 0\n",
    "    for i in range(test_count):\n",
    "        x = stats.laplace.rvs(mu, 1, n)\n",
    "        x_med = np.quantile(x, 0.5)\n",
    "        left = x_med - right_q / np.sqrt(n)\n",
    "        right = x_med - left_q / np.sqrt(n)\n",
    "        if left < mu < right:\n",
    "            hit_count += 1\n",
    "    return hit_count"
   ],
   "id": "54e0a84c5b0f14d7",
   "outputs": [],
   "execution_count": 11
  },
  {
   "metadata": {
    "ExecuteTime": {
     "end_time": "2024-11-24T09:40:39.318983Z",
     "start_time": "2024-11-24T09:40:38.556486Z"
    }
   },
   "cell_type": "code",
   "source": [
    "print(\"Количество попаданий в интервал:\")\n",
    "print(\"\\tпри n = 5: \", test(5))\n",
    "print(\"\\tпри n = 25: \", test(25))\n",
    "print(\"\\tпри n = 10000: \", test(10000))"
   ],
   "id": "3576f44aa02ccb1",
   "outputs": [
    {
     "name": "stdout",
     "output_type": "stream",
     "text": [
      "Количество попаданий в интервал:\n",
      "\tпри n = 5:  877\n",
      "\tпри n = 25:  913\n",
      "\tпри n = 10000:  953\n"
     ]
    }
   ],
   "execution_count": 12
  },
  {
   "metadata": {},
   "cell_type": "markdown",
   "source": "В отличие от доверительного интервала, использующего более точные методы для оценки, количество попаданий в асимптотический доверительный интервал более явно зависит от размера выборки, поэтому при больших размерах выборки количество попаданий становится ближе к ожидаемому",
   "id": "2e047c3e1e95c6a6"
  },
  {
   "metadata": {},
   "cell_type": "markdown",
   "source": "",
   "id": "e1340ea66892a7d2"
  }
 ],
 "metadata": {
  "kernelspec": {
   "display_name": "Python 3",
   "language": "python",
   "name": "python3"
  },
  "language_info": {
   "codemirror_mode": {
    "name": "ipython",
    "version": 2
   },
   "file_extension": ".py",
   "mimetype": "text/x-python",
   "name": "python",
   "nbconvert_exporter": "python",
   "pygments_lexer": "ipython2",
   "version": "2.7.6"
  }
 },
 "nbformat": 4,
 "nbformat_minor": 5
}
