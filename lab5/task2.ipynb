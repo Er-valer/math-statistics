{
 "cells": [
  {
   "metadata": {},
   "cell_type": "markdown",
   "source": "## Задание 2(2)",
   "id": "b066589e90944e66"
  },
  {
   "metadata": {},
   "cell_type": "markdown",
   "source": [
    "### Однофакторный дисперсионный анализ\n",
    "\n",
    "#### Модель: \n",
    "> $Y_{ij} = \\mu_j + \\varepsilon_{ij}$\n",
    "\n",
    "где\n",
    "* Y - наблюдения зависимой переменной\n",
    "* $1 \\leq j \\leq J$ - уровень фактора\n",
    "* $1 \\leq i \\leq I_j$ - номер наблюдения для $j$ уровня\n",
    "* $\\mu_j$ - среднее влияние на $j$ уровне\n",
    "\n",
    "#### Тест: \n",
    "> f-тест Фишера\n",
    "\n",
    "#### Гипотезы:\n",
    "> $H_0$: $\\mu_1 = \\mu_2 = ... = \\mu_J$\n",
    ">\n",
    "> $H_1$: $\\neg H_0$\n",
    "\n",
    "#### Статистика:\n",
    "> $F = \\frac{S_b^2}{S^2_w} \\cdot \\frac{df_w}{df_b} \\sim F(df_b, df_w)$\n",
    "\n",
    "где \n",
    "* $S_b^2 = \\sum_{j=1}^J I_j (\\overline{Y_{*j}} - \\overline{Y})^2$\n",
    "* $S_w^2 = \\sum_{j=1}^J \\sum_{i=1}^{I_j} (Y_{ij} - \\overline{Y_{*j}})^2$\n",
    "* $df_b = J - 1$\n",
    "* $df_w = I - J$\n",
    "\n",
    "#### Тип теста:\n",
    "> правосторонний"
   ],
   "id": "dbd23ad3b133df3e"
  },
  {
   "metadata": {
    "ExecuteTime": {
     "end_time": "2024-12-18T19:19:17.970425Z",
     "start_time": "2024-12-18T19:19:17.964852Z"
    }
   },
   "cell_type": "code",
   "source": [
    "import pandas as pd\n",
    "from scipy.stats import f"
   ],
   "id": "cd4eb71079bb86cd",
   "outputs": [],
   "execution_count": 73
  },
  {
   "metadata": {
    "collapsed": true,
    "ExecuteTime": {
     "end_time": "2024-12-18T19:19:18.011393Z",
     "start_time": "2024-12-18T19:19:17.988594Z"
    }
   },
   "cell_type": "code",
   "source": [
    "def main():\n",
    "    alpha = 0.05\n",
    "\n",
    "    data = pd.read_csv('exams_dataset.csv')\n",
    "    data['score'] = data['math score'] + data['reading score'] + data['writing score']\n",
    "    \n",
    "    n = len(data)\n",
    "    mean = data['score'].mean()\n",
    "    \n",
    "    target = data['score']\n",
    "    factor = data['race/ethnicity']\n",
    "    \n",
    "    levels = factor.unique()\n",
    "    lvl_count = factor.value_counts()\n",
    "    lvl_mean = data.groupby('race/ethnicity')['score'].mean()\n",
    "    \n",
    "    print(f\"Mean: {mean}\")\n",
    "    print(f\"Levels mean: \")\n",
    "    for lvl in levels:\n",
    "        print(f\"  {lvl} | {lvl_mean[lvl]}\")\n",
    "    \n",
    "    ssb = sum(lvl_count[lvl] * (lvl_mean[lvl] - mean)**2 for lvl in levels)\n",
    "    dfb = len(levels) - 1\n",
    "    \n",
    "    ssw = sum((target[i] - lvl_mean[factor[i]])**2 for i in range(n))\n",
    "    dfw = n - len(levels)\n",
    "    \n",
    "    stat = (ssb / dfb) / (ssw / dfw)\n",
    "    pvalue = 1 - f(dfb, dfw).cdf(stat)\n",
    "    result = \"accept\" if pvalue > alpha else \"reject\"\n",
    "    \n",
    "    print(f\"Statistic: {stat}\")\n",
    "    print(f\"P-value: {pvalue}\")\n",
    "    print(f\"Result: {result}\")\n",
    "    \n",
    "if __name__ == '__main__':\n",
    "    main()"
   ],
   "id": "initial_id",
   "outputs": [
    {
     "name": "stdout",
     "output_type": "stream",
     "text": [
      "Mean: 202.404\n",
      "Levels mean: \n",
      "  group B | 195.06372549019608\n",
      "  group D | 209.53639846743295\n",
      "  group A | 191.66233766233765\n",
      "  group C | 194.9814814814815\n",
      "  group E | 223.80597014925374\n",
      "Statistic: 14.31081484758895\n",
      "P-value: 2.303324198038581e-11\n",
      "Result: reject\n"
     ]
    }
   ],
   "execution_count": 74
  }
 ],
 "metadata": {
  "kernelspec": {
   "display_name": "Python 3",
   "language": "python",
   "name": "python3"
  },
  "language_info": {
   "codemirror_mode": {
    "name": "ipython",
    "version": 2
   },
   "file_extension": ".py",
   "mimetype": "text/x-python",
   "name": "python",
   "nbconvert_exporter": "python",
   "pygments_lexer": "ipython2",
   "version": "2.7.6"
  }
 },
 "nbformat": 4,
 "nbformat_minor": 5
}
